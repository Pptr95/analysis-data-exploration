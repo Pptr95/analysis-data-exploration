{
 "cells": [
  {
   "cell_type": "markdown",
   "metadata": {},
   "source": [
    "# Pandas Foundations"
   ]
  },
  {
   "cell_type": "markdown",
   "metadata": {},
   "source": [
    "## Dissecting the anatomy of a DataFrame"
   ]
  },
  {
   "cell_type": "code",
   "execution_count": 2,
   "metadata": {},
   "outputs": [],
   "source": [
    "import pandas as pd\n",
    "import numpy as np"
   ]
  },
  {
   "cell_type": "markdown",
   "metadata": {},
   "source": [
    "With this function, Pandas reads a csv file and converts it into a DataFrame"
   ]
  },
  {
   "cell_type": "code",
   "execution_count": 3,
   "metadata": {},
   "outputs": [
    {
     "data": {
      "text/html": [
       "<div>\n",
       "<style scoped>\n",
       "    .dataframe tbody tr th:only-of-type {\n",
       "        vertical-align: middle;\n",
       "    }\n",
       "\n",
       "    .dataframe tbody tr th {\n",
       "        vertical-align: top;\n",
       "    }\n",
       "\n",
       "    .dataframe thead th {\n",
       "        text-align: right;\n",
       "    }\n",
       "</style>\n",
       "<table border=\"1\" class=\"dataframe\">\n",
       "  <thead>\n",
       "    <tr style=\"text-align: right;\">\n",
       "      <th></th>\n",
       "      <th>Film</th>\n",
       "      <th>Genre</th>\n",
       "      <th>Lead Studio</th>\n",
       "      <th>Audience score %</th>\n",
       "      <th>Profitability</th>\n",
       "      <th>Rotten Tomatoes %</th>\n",
       "      <th>Worldwide Gross</th>\n",
       "      <th>Year</th>\n",
       "    </tr>\n",
       "  </thead>\n",
       "  <tbody>\n",
       "    <tr>\n",
       "      <th>0</th>\n",
       "      <td>Zack and Miri Make a Porno</td>\n",
       "      <td>Romance</td>\n",
       "      <td>The Weinstein Company</td>\n",
       "      <td>70</td>\n",
       "      <td>1.747542</td>\n",
       "      <td>64</td>\n",
       "      <td>$41.94</td>\n",
       "      <td>2008.0</td>\n",
       "    </tr>\n",
       "    <tr>\n",
       "      <th>1</th>\n",
       "      <td>Youth in Revolt</td>\n",
       "      <td>Comedy</td>\n",
       "      <td>The Weinstein Company</td>\n",
       "      <td>52</td>\n",
       "      <td>1.090000</td>\n",
       "      <td>68</td>\n",
       "      <td>$19.62</td>\n",
       "      <td>2010.0</td>\n",
       "    </tr>\n",
       "    <tr>\n",
       "      <th>2</th>\n",
       "      <td>You Will Meet a Tall Dark Stranger</td>\n",
       "      <td>Comedy</td>\n",
       "      <td>Independent</td>\n",
       "      <td>35</td>\n",
       "      <td>1.211818</td>\n",
       "      <td>43</td>\n",
       "      <td>$26.66</td>\n",
       "      <td>2010.0</td>\n",
       "    </tr>\n",
       "    <tr>\n",
       "      <th>3</th>\n",
       "      <td>When in Rome</td>\n",
       "      <td>Comedy</td>\n",
       "      <td>Disney</td>\n",
       "      <td>44</td>\n",
       "      <td>0.000000</td>\n",
       "      <td>15</td>\n",
       "      <td>$43.04</td>\n",
       "      <td>2010.0</td>\n",
       "    </tr>\n",
       "    <tr>\n",
       "      <th>4</th>\n",
       "      <td>What Happens in Vegas</td>\n",
       "      <td>Comedy</td>\n",
       "      <td>Fox</td>\n",
       "      <td>72</td>\n",
       "      <td>6.267647</td>\n",
       "      <td>28</td>\n",
       "      <td>$219.37</td>\n",
       "      <td>2008.0</td>\n",
       "    </tr>\n",
       "  </tbody>\n",
       "</table>\n",
       "</div>"
      ],
      "text/plain": [
       "                                 Film    Genre            Lead Studio  \\\n",
       "0          Zack and Miri Make a Porno  Romance  The Weinstein Company   \n",
       "1                     Youth in Revolt   Comedy  The Weinstein Company   \n",
       "2  You Will Meet a Tall Dark Stranger   Comedy            Independent   \n",
       "3                        When in Rome   Comedy                 Disney   \n",
       "4               What Happens in Vegas   Comedy                    Fox   \n",
       "\n",
       "   Audience score %  Profitability  Rotten Tomatoes % Worldwide Gross    Year  \n",
       "0                70       1.747542                 64         $41.94   2008.0  \n",
       "1                52       1.090000                 68         $19.62   2010.0  \n",
       "2                35       1.211818                 43         $26.66   2010.0  \n",
       "3                44       0.000000                 15         $43.04   2010.0  \n",
       "4                72       6.267647                 28        $219.37   2008.0  "
      ]
     },
     "execution_count": 3,
     "metadata": {},
     "output_type": "execute_result"
    }
   ],
   "source": [
    "movie = pd.read_csv('data/movies.csv')\n",
    "movie.head()"
   ]
  },
  {
   "cell_type": "markdown",
   "metadata": {},
   "source": [
    "## Accessing the main DataFrame components"
   ]
  },
  {
   "cell_type": "code",
   "execution_count": 8,
   "metadata": {},
   "outputs": [],
   "source": [
    "columns = movie.columns\n",
    "index = movie.index\n",
    "data = movie.values"
   ]
  },
  {
   "cell_type": "code",
   "execution_count": 16,
   "metadata": {},
   "outputs": [
    {
     "data": {
      "text/plain": [
       "Index(['Film', 'Genre', 'Lead Studio', 'Audience score %', 'Profitability',\n",
       "       'Rotten Tomatoes %', 'Worldwide Gross', 'Year'],\n",
       "      dtype='object')"
      ]
     },
     "execution_count": 16,
     "metadata": {},
     "output_type": "execute_result"
    }
   ],
   "source": [
    "columns"
   ]
  },
  {
   "cell_type": "code",
   "execution_count": 17,
   "metadata": {},
   "outputs": [
    {
     "data": {
      "text/plain": [
       "RangeIndex(start=0, stop=77, step=1)"
      ]
     },
     "execution_count": 17,
     "metadata": {},
     "output_type": "execute_result"
    }
   ],
   "source": [
    "index"
   ]
  },
  {
   "cell_type": "code",
   "execution_count": 20,
   "metadata": {},
   "outputs": [
    {
     "data": {
      "text/plain": [
       "array([['Zack and Miri Make a Porno', 'Romance', 'The Weinstein Company',\n",
       "        70, 1.747541667, 64, '$41.94 ', 2008.0],\n",
       "       ['Youth in Revolt', 'Comedy', 'The Weinstein Company', 52, 1.09,\n",
       "        68, '$19.62 ', 2010.0],\n",
       "       ['You Will Meet a Tall Dark Stranger', 'Comedy', 'Independent',\n",
       "        35, 1.211818182, 43, '$26.66 ', 2010.0],\n",
       "       ['When in Rome', 'Comedy', 'Disney', 44, 0.0, 15, '$43.04 ',\n",
       "        2010.0],\n",
       "       ['What Happens in Vegas', 'Comedy', 'Fox', 72, 6.267647029, 28,\n",
       "        '$219.37 ', 2008.0],\n",
       "       ['Water For Elephants', 'Drama', '20th Century Fox', 72,\n",
       "        3.081421053, 60, '$117.09 ', 2011.0],\n",
       "       ['WALL-E', 'Animation', 'Disney', 89, 2.8960190669999997, 96,\n",
       "        '$521.28 ', 2008.0],\n",
       "       ['Waitress', 'Romance', 'Independent', 67, 11.089741499999999, 89,\n",
       "        '$22.18 ', 2007.0],\n",
       "       ['Waiting For Forever', 'Romance', 'Independent', 53, 0.005, 6,\n",
       "        '$0.03 ', 2011.0],\n",
       "       [\"Valentine's Day\", 'Comedy', 'Warner Bros.', 54, 4.184038462, 17,\n",
       "        '$217.57 ', 2010.0],\n",
       "       [\"Tyler Perry's Why Did I get Married\", 'Romance', 'Independent',\n",
       "        47, 3.7241923999999997, 46, '$55.86 ', 2007.0],\n",
       "       ['Twilight: Breaking Dawn', 'Romance', 'Independent', 68,\n",
       "        6.383363636, 26, '$702.17 ', 2011.0],\n",
       "       ['Twilight', 'Romance', 'Summit', 82, 10.18002703, 49, '$376.66 ',\n",
       "        2008.0],\n",
       "       ['The Ugly Truth', 'Comedy', 'Independent', 68,\n",
       "        5.4026315789999995, 14, '$205.30 ', 2009.0],\n",
       "       ['The Twilight Saga: New Moon', 'Drama', 'Summit', 78, 14.1964,\n",
       "        27, '$709.82 ', 2009.0],\n",
       "       [\"The Time Traveler's Wife\", 'Drama', 'Paramount', 65,\n",
       "        2.598205128, 38, '$101.33 ', 2009.0],\n",
       "       ['The Proposal', 'Comedy', 'Disney', 74, 7.8675, 43, '$314.70 ',\n",
       "        2009.0],\n",
       "       ['The Invention of Lying', 'Comedy', 'Warner Bros.', 47,\n",
       "        1.7513513509999998, 56, '$32.40 ', 2009.0],\n",
       "       ['The Heartbreak Kid', 'Comedy', 'Paramount', 41, 2.129444167, 30,\n",
       "        '$127.77 ', 2007.0],\n",
       "       ['The Duchess', 'Drama', 'Paramount', 68, 3.207850222, 60,\n",
       "        '$43.31 ', 2008.0],\n",
       "       ['The Curious Case of Benjamin Button', 'Fantasy', 'Warner Bros.',\n",
       "        81, 1.78394375, 73, '$285.43 ', 2008.0],\n",
       "       ['The Back-up Plan', 'Comedy', 'CBS', 47, 2.2025714290000002, 20,\n",
       "        '$77.09 ', 2010.0],\n",
       "       ['Tangled', 'Animation', 'Disney', 88, 1.365692308, 89,\n",
       "        '$355.01 ', 2010.0],\n",
       "       ['Something Borrowed', 'Romance', 'Independent', 48, 1.719514286,\n",
       "        15, '$60.18 ', 2011.0],\n",
       "       [\"She's Out of My League\", 'Comedy', 'Paramount', 60, 2.4405, 57,\n",
       "        '$48.81 ', 2010.0],\n",
       "       ['Sex and the City Two', 'Comedy', 'Warner Bros.', 49, 2.8835, 15,\n",
       "        '$288.35 ', 2010.0],\n",
       "       ['Sex and the City 2', 'Comedy', 'Warner Bros.', 49, 2.8835, 15,\n",
       "        '$288.35 ', 2010.0],\n",
       "       ['Sex and the City', 'Comedy', 'Warner Bros.', 81, 7.221795791,\n",
       "        49, '$415.25 ', 2008.0],\n",
       "       ['Remember Me', 'Drama', 'Summit', 70, 3.49125, 28, '$55.86 ',\n",
       "        2010.0],\n",
       "       ['Rachel Getting Married', 'Drama', 'Independent', 61,\n",
       "        1.384166667, 85, '$16.61 ', 2008.0],\n",
       "       ['Penelope', 'Comedy', 'Summit', 74, 1.3827997330000001, 52,\n",
       "        '$20.74 ', 2008.0],\n",
       "       ['P.S. I Love You', 'Romance', 'Independent', 82,\n",
       "        5.1031168330000005, 21, '$153.09 ', 2007.0],\n",
       "       ['Over Her Dead Body', 'Comedy', 'New Line', 47,\n",
       "        2.0709999999999997, 15, '$20.71 ', 2008.0],\n",
       "       ['Our Family Wedding', 'Comedy', 'Independent', 49, 0.0, 14,\n",
       "        '$21.37 ', 2010.0],\n",
       "       ['One Day', 'Romance', 'Independent', 54, 3.6827333330000003, 37,\n",
       "        '$55.24 ', 2011.0],\n",
       "       ['Not Easily Broken', 'Drama', 'Independent', 66, 2.14, 34,\n",
       "        '$10.70 ', 2009.0],\n",
       "       ['No Reservations', 'Comedy', 'Warner Bros.', 64, 3.307180357, 39,\n",
       "        '$92.60 ', 2007.0],\n",
       "       [\"Nick and Norah's Infinite Playlist\", 'Comedy', 'Sony', 67,\n",
       "        3.3527292999999996, 73, '$33.53 ', 2008.0],\n",
       "       [\"New Year's Eve\", 'Romance', 'Warner Bros.', 48, 2.536428571, 8,\n",
       "        '$142.04 ', 2011.0],\n",
       "       ['My Week with Marilyn', 'Drama', 'The Weinstein Company', 84,\n",
       "        0.8258, 83, '$8.26 ', 2011.0],\n",
       "       ['Music and Lyrics', 'Romance', 'Warner Bros.', 70, 3.64741055,\n",
       "        63, '$145.90 ', 2007.0],\n",
       "       ['Monte Carlo', 'Romance', '20th Century Fox', 50, 1.9832, 38,\n",
       "        '$39.66 ', 2011.0],\n",
       "       ['Miss Pettigrew Lives for a Day', 'Comedy', 'Independent', 70,\n",
       "        0.25289490000000003, 78, '$15.17 ', 2008.0],\n",
       "       ['Midnight in Paris', 'Romence', 'Sony', 84, 8.744705882, 93,\n",
       "        '$148.66 ', 2011.0],\n",
       "       ['Marley and Me', 'Comedy', 'Fox', 77, 3.746781818, 63,\n",
       "        '$206.07 ', 2008.0],\n",
       "       ['Mamma Mia!', 'Comedy', 'Universal', 76, 9.234453863999999, 53,\n",
       "        '$609.47 ', 2008.0],\n",
       "       ['Mamma Mia!', 'Comedy', 'Universal', 76, 9.234453863999999, 53,\n",
       "        '$609.47 ', 2008.0],\n",
       "       ['Made of Honor', 'Comdy', 'Sony', 61, 2.64906835, 13, '$105.96 ',\n",
       "        2008.0],\n",
       "       ['Love Happens', 'Drama', 'Universal', 40, 2.004444444, 18,\n",
       "        '$36.08 ', 2009.0],\n",
       "       ['Love & Other Drugs', 'Comedy', 'Fox', 55, 1.817666667, 48,\n",
       "        '$54.53 ', 2010.0],\n",
       "       ['Life as We Know It', 'Comedy', 'Independent', 62, 2.530526316,\n",
       "        28, '$96.16 ', 2010.0],\n",
       "       ['License to Wed', 'Comedy', 'Warner Bros.', 55, 1.9802064, 8,\n",
       "        '$69.31 ', 2007.0],\n",
       "       ['Letters to Juliet', 'Comedy', 'Summit', 62, 2.639333333, 40,\n",
       "        '$79.18 ', 2010.0],\n",
       "       ['Leap Year', 'Comedy', 'Universal', 49, 1.7152631580000002, 21,\n",
       "        '$32.59 ', 2010.0],\n",
       "       ['Knocked Up', 'Comedy', 'Universal', 83, 6.636401847999999, 91,\n",
       "        '$219 ', 2007.0],\n",
       "       ['Killers', 'Action', 'Lionsgate', 45, 1.245333333, 11, '$93.40 ',\n",
       "        2010.0],\n",
       "       ['Just Wright', 'Comedy', 'Fox', 58, 1.7974166669999998, 45,\n",
       "        '$21.57 ', 2010.0],\n",
       "       ['Jane Eyre', 'Romance', 'Universal', 77, 0.0, 85, '$30.15 ',\n",
       "        2011.0],\n",
       "       [\"It's Complicated\", 'Comedy', 'Universal', 63, 2.642352941, 56,\n",
       "        '$224.60 ', 2009.0],\n",
       "       ['I Love You Phillip Morris', 'Comedy', 'Independent', 57, 1.34,\n",
       "        71, '$20.10 ', 2010.0],\n",
       "       ['High School Musical 3: Senior Year', 'Comedy', 'Disney', 76,\n",
       "        22.91313646, 65, '$252.04 ', 2008.0],\n",
       "       [\"He's Just Not That Into You\", 'Comedy', 'Warner Bros.', 60,\n",
       "        7.1536, 42, '$178.84 ', 2009.0],\n",
       "       ['Good Luck Chuck', 'Comedy', 'Lionsgate', 61, 2.36768512, 3,\n",
       "        '$59.19 ', 2007.0],\n",
       "       ['Going the Distance', 'Comedy', 'Warner Bros.', 56, 1.3140625,\n",
       "        53, '$42.05 ', 2010.0],\n",
       "       ['Gnomeo and Juliet', 'Animation', 'Disney', 52, 5.387972222, 56,\n",
       "        '$193.97 ', 2011.0],\n",
       "       ['Gnomeo and Juliet', 'Animation', 'Disney', 52, 5.387972222, 56,\n",
       "        '$193.97 ', 2011.0],\n",
       "       ['Ghosts of Girlfriends Past', 'Comedy', 'Warner Bros.', 47,\n",
       "        2.0444, 27, '$102.22 ', 2009.0],\n",
       "       ['Four Christmases', 'Comedy', 'Warner Bros.', 52, 2.022925, 26,\n",
       "        '$161.83 ', 2008.0],\n",
       "       ['Fireproof', 'Drama', 'Independent', 51, 66.934, 40, '$33.47 ',\n",
       "        2008.0],\n",
       "       ['Enchanted', 'Comedy', 'Disney', 80, 4.005737082, 93, '$340.49 ',\n",
       "        2007.0],\n",
       "       ['Dear John', 'Drama', 'Sony', 66, 4.5988, 29, '$114.97 ', 2010.0],\n",
       "       ['Beginners', 'Comedy', 'Independent', 80, 4.471875, 84,\n",
       "        '$14.31 ', 2011.0],\n",
       "       ['Across the Universe', 'romance', 'Independent', 84, 0.652603178,\n",
       "        54, '$29.37 ', 2007.0],\n",
       "       ['A Serious Man', 'Drama', 'Universal', 64, 4.382857143, 89,\n",
       "        '$30.68 ', 2009.0],\n",
       "       ['A Dangerous Method', 'Drama', 'Independent', 89, 0.44864475, 79,\n",
       "        '$8.97 ', 2011.0],\n",
       "       ['27 Dresses', 'Comedy', 'Fox', 71, 5.3436218, 40, '$160.31 ',\n",
       "        2008.0],\n",
       "       ['(500) Days of Summer', 'comedy', 'Fox', 81, 8.096, 87, '$60.72',\n",
       "        nan]], dtype=object)"
      ]
     },
     "execution_count": 20,
     "metadata": {},
     "output_type": "execute_result"
    }
   ],
   "source": [
    "data"
   ]
  },
  {
   "cell_type": "markdown",
   "metadata": {},
   "source": [
    "**type()** gives the type of a variable"
   ]
  },
  {
   "cell_type": "code",
   "execution_count": 22,
   "metadata": {},
   "outputs": [
    {
     "data": {
      "text/plain": [
       "pandas.core.indexes.range.RangeIndex"
      ]
     },
     "execution_count": 22,
     "metadata": {},
     "output_type": "execute_result"
    }
   ],
   "source": [
    "type(index)"
   ]
  },
  {
   "cell_type": "code",
   "execution_count": 23,
   "metadata": {},
   "outputs": [
    {
     "data": {
      "text/plain": [
       "pandas.core.indexes.base.Index"
      ]
     },
     "execution_count": 23,
     "metadata": {},
     "output_type": "execute_result"
    }
   ],
   "source": [
    "type(columns)"
   ]
  },
  {
   "cell_type": "code",
   "execution_count": 24,
   "metadata": {},
   "outputs": [
    {
     "data": {
      "text/plain": [
       "numpy.ndarray"
      ]
     },
     "execution_count": 24,
     "metadata": {},
     "output_type": "execute_result"
    }
   ],
   "source": [
    "type(data)"
   ]
  },
  {
   "cell_type": "markdown",
   "metadata": {},
   "source": [
    " **issubclass(first, second)** checks whether the first argument is indeed a subclass of the second argument"
   ]
  },
  {
   "cell_type": "code",
   "execution_count": 25,
   "metadata": {},
   "outputs": [
    {
     "data": {
      "text/plain": [
       "True"
      ]
     },
     "execution_count": 25,
     "metadata": {},
     "output_type": "execute_result"
    }
   ],
   "source": [
    "issubclass(pd.RangeIndex, pd.Index)"
   ]
  },
  {
   "cell_type": "markdown",
   "metadata": {},
   "source": [
    "## Understanding data types"
   ]
  },
  {
   "cell_type": "code",
   "execution_count": 26,
   "metadata": {},
   "outputs": [],
   "source": [
    "movie = pd.read_csv('data/movies.csv')"
   ]
  },
  {
   "cell_type": "markdown",
   "metadata": {},
   "source": [
    "The attribute **dtypes** display each column along with its data type"
   ]
  },
  {
   "cell_type": "code",
   "execution_count": 27,
   "metadata": {},
   "outputs": [
    {
     "data": {
      "text/plain": [
       "Film                  object\n",
       "Genre                 object\n",
       "Lead Studio           object\n",
       "Audience score %       int64\n",
       "Profitability        float64\n",
       "Rotten Tomatoes %      int64\n",
       "Worldwide Gross       object\n",
       "Year                 float64\n",
       "dtype: object"
      ]
     },
     "execution_count": 27,
     "metadata": {},
     "output_type": "execute_result"
    }
   ],
   "source": [
    "movie.dtypes"
   ]
  },
  {
   "cell_type": "markdown",
   "metadata": {},
   "source": [
    "The method **get_dtype_counts()** gives the count of all datatype present in our DataFrame"
   ]
  },
  {
   "cell_type": "code",
   "execution_count": 28,
   "metadata": {},
   "outputs": [
    {
     "data": {
      "text/plain": [
       "float64    2\n",
       "int64      2\n",
       "object     4\n",
       "dtype: int64"
      ]
     },
     "execution_count": 28,
     "metadata": {},
     "output_type": "execute_result"
    }
   ],
   "source": [
    "movie.get_dtype_counts()"
   ]
  },
  {
   "cell_type": "markdown",
   "metadata": {},
   "source": [
    "## Series"
   ]
  },
  {
   "cell_type": "markdown",
   "metadata": {},
   "source": [
    "There are two different syntaxes to select a Series:"
   ]
  },
  {
   "cell_type": "markdown",
   "metadata": {},
   "source": [
    "- *Index operator*"
   ]
  },
  {
   "cell_type": "markdown",
   "metadata": {},
   "source": [
    "- *Dot notation*. However this notation **should be avoided** since could fail in some cases such as having column names which collide with DataFrame methods or having column names with spaces or with special characters."
   ]
  },
  {
   "cell_type": "markdown",
   "metadata": {},
   "source": [
    "A **Series** is a single column of data from a DataFrame. It is a **single dimenson** of data, composed of just an index and the data."
   ]
  },
  {
   "cell_type": "markdown",
   "metadata": {},
   "source": [
    "### Selecting a single column of data as a Series"
   ]
  },
  {
   "cell_type": "markdown",
   "metadata": {},
   "source": [
    "Using **index operator**"
   ]
  },
  {
   "cell_type": "code",
   "execution_count": 30,
   "metadata": {},
   "outputs": [
    {
     "data": {
      "text/plain": [
       "0              Zack and Miri Make a Porno\n",
       "1                         Youth in Revolt\n",
       "2      You Will Meet a Tall Dark Stranger\n",
       "3                            When in Rome\n",
       "4                   What Happens in Vegas\n",
       "5                     Water For Elephants\n",
       "6                                  WALL-E\n",
       "7                                Waitress\n",
       "8                     Waiting For Forever\n",
       "9                         Valentine's Day\n",
       "10    Tyler Perry's Why Did I get Married\n",
       "11                Twilight: Breaking Dawn\n",
       "12                               Twilight\n",
       "13                         The Ugly Truth\n",
       "14            The Twilight Saga: New Moon\n",
       "15               The Time Traveler's Wife\n",
       "16                           The Proposal\n",
       "17                 The Invention of Lying\n",
       "18                     The Heartbreak Kid\n",
       "19                            The Duchess\n",
       "20    The Curious Case of Benjamin Button\n",
       "21                       The Back-up Plan\n",
       "22                                Tangled\n",
       "23                     Something Borrowed\n",
       "24                 She's Out of My League\n",
       "25                   Sex and the City Two\n",
       "26                     Sex and the City 2\n",
       "27                       Sex and the City\n",
       "28                            Remember Me\n",
       "29                 Rachel Getting Married\n",
       "                     ...                 \n",
       "47                          Made of Honor\n",
       "48                           Love Happens\n",
       "49                     Love & Other Drugs\n",
       "50                     Life as We Know It\n",
       "51                         License to Wed\n",
       "52                      Letters to Juliet\n",
       "53                              Leap Year\n",
       "54                             Knocked Up\n",
       "55                                Killers\n",
       "56                            Just Wright\n",
       "57                              Jane Eyre\n",
       "58                       It's Complicated\n",
       "59              I Love You Phillip Morris\n",
       "60     High School Musical 3: Senior Year\n",
       "61            He's Just Not That Into You\n",
       "62                        Good Luck Chuck\n",
       "63                     Going the Distance\n",
       "64                      Gnomeo and Juliet\n",
       "65                      Gnomeo and Juliet\n",
       "66             Ghosts of Girlfriends Past\n",
       "67                       Four Christmases\n",
       "68                              Fireproof\n",
       "69                              Enchanted\n",
       "70                              Dear John\n",
       "71                              Beginners\n",
       "72                    Across the Universe\n",
       "73                          A Serious Man\n",
       "74                     A Dangerous Method\n",
       "75                             27 Dresses\n",
       "76                   (500) Days of Summer\n",
       "Name: Film, Length: 77, dtype: object"
      ]
     },
     "execution_count": 30,
     "metadata": {},
     "output_type": "execute_result"
    }
   ],
   "source": [
    "movie['Film']"
   ]
  },
  {
   "cell_type": "markdown",
   "metadata": {},
   "source": [
    "Using **dot notation**"
   ]
  },
  {
   "cell_type": "code",
   "execution_count": 31,
   "metadata": {},
   "outputs": [
    {
     "data": {
      "text/plain": [
       "0              Zack and Miri Make a Porno\n",
       "1                         Youth in Revolt\n",
       "2      You Will Meet a Tall Dark Stranger\n",
       "3                            When in Rome\n",
       "4                   What Happens in Vegas\n",
       "5                     Water For Elephants\n",
       "6                                  WALL-E\n",
       "7                                Waitress\n",
       "8                     Waiting For Forever\n",
       "9                         Valentine's Day\n",
       "10    Tyler Perry's Why Did I get Married\n",
       "11                Twilight: Breaking Dawn\n",
       "12                               Twilight\n",
       "13                         The Ugly Truth\n",
       "14            The Twilight Saga: New Moon\n",
       "15               The Time Traveler's Wife\n",
       "16                           The Proposal\n",
       "17                 The Invention of Lying\n",
       "18                     The Heartbreak Kid\n",
       "19                            The Duchess\n",
       "20    The Curious Case of Benjamin Button\n",
       "21                       The Back-up Plan\n",
       "22                                Tangled\n",
       "23                     Something Borrowed\n",
       "24                 She's Out of My League\n",
       "25                   Sex and the City Two\n",
       "26                     Sex and the City 2\n",
       "27                       Sex and the City\n",
       "28                            Remember Me\n",
       "29                 Rachel Getting Married\n",
       "                     ...                 \n",
       "47                          Made of Honor\n",
       "48                           Love Happens\n",
       "49                     Love & Other Drugs\n",
       "50                     Life as We Know It\n",
       "51                         License to Wed\n",
       "52                      Letters to Juliet\n",
       "53                              Leap Year\n",
       "54                             Knocked Up\n",
       "55                                Killers\n",
       "56                            Just Wright\n",
       "57                              Jane Eyre\n",
       "58                       It's Complicated\n",
       "59              I Love You Phillip Morris\n",
       "60     High School Musical 3: Senior Year\n",
       "61            He's Just Not That Into You\n",
       "62                        Good Luck Chuck\n",
       "63                     Going the Distance\n",
       "64                      Gnomeo and Juliet\n",
       "65                      Gnomeo and Juliet\n",
       "66             Ghosts of Girlfriends Past\n",
       "67                       Four Christmases\n",
       "68                              Fireproof\n",
       "69                              Enchanted\n",
       "70                              Dear John\n",
       "71                              Beginners\n",
       "72                    Across the Universe\n",
       "73                          A Serious Man\n",
       "74                     A Dangerous Method\n",
       "75                             27 Dresses\n",
       "76                   (500) Days of Summer\n",
       "Name: Film, Length: 77, dtype: object"
      ]
     },
     "execution_count": 31,
     "metadata": {},
     "output_type": "execute_result"
    }
   ],
   "source": [
    "movie.Film"
   ]
  },
  {
   "cell_type": "code",
   "execution_count": 32,
   "metadata": {},
   "outputs": [
    {
     "data": {
      "text/plain": [
       "pandas.core.series.Series"
      ]
     },
     "execution_count": 32,
     "metadata": {},
     "output_type": "execute_result"
    }
   ],
   "source": [
    "type(movie['Film'])"
   ]
  },
  {
   "cell_type": "code",
   "execution_count": 33,
   "metadata": {},
   "outputs": [
    {
     "data": {
      "text/plain": [
       "pandas.core.series.Series"
      ]
     },
     "execution_count": 33,
     "metadata": {},
     "output_type": "execute_result"
    }
   ],
   "source": [
    "type(movie.Film)"
   ]
  },
  {
   "cell_type": "markdown",
   "metadata": {},
   "source": [
    "Now it is possible to convert the Series into a one column DataFrame using the method **to_frame()** "
   ]
  },
  {
   "cell_type": "code",
   "execution_count": 34,
   "metadata": {},
   "outputs": [
    {
     "data": {
      "text/html": [
       "<div>\n",
       "<style scoped>\n",
       "    .dataframe tbody tr th:only-of-type {\n",
       "        vertical-align: middle;\n",
       "    }\n",
       "\n",
       "    .dataframe tbody tr th {\n",
       "        vertical-align: top;\n",
       "    }\n",
       "\n",
       "    .dataframe thead th {\n",
       "        text-align: right;\n",
       "    }\n",
       "</style>\n",
       "<table border=\"1\" class=\"dataframe\">\n",
       "  <thead>\n",
       "    <tr style=\"text-align: right;\">\n",
       "      <th></th>\n",
       "      <th>Film</th>\n",
       "    </tr>\n",
       "  </thead>\n",
       "  <tbody>\n",
       "    <tr>\n",
       "      <th>0</th>\n",
       "      <td>Zack and Miri Make a Porno</td>\n",
       "    </tr>\n",
       "    <tr>\n",
       "      <th>1</th>\n",
       "      <td>Youth in Revolt</td>\n",
       "    </tr>\n",
       "    <tr>\n",
       "      <th>2</th>\n",
       "      <td>You Will Meet a Tall Dark Stranger</td>\n",
       "    </tr>\n",
       "    <tr>\n",
       "      <th>3</th>\n",
       "      <td>When in Rome</td>\n",
       "    </tr>\n",
       "    <tr>\n",
       "      <th>4</th>\n",
       "      <td>What Happens in Vegas</td>\n",
       "    </tr>\n",
       "    <tr>\n",
       "      <th>5</th>\n",
       "      <td>Water For Elephants</td>\n",
       "    </tr>\n",
       "    <tr>\n",
       "      <th>6</th>\n",
       "      <td>WALL-E</td>\n",
       "    </tr>\n",
       "    <tr>\n",
       "      <th>7</th>\n",
       "      <td>Waitress</td>\n",
       "    </tr>\n",
       "    <tr>\n",
       "      <th>8</th>\n",
       "      <td>Waiting For Forever</td>\n",
       "    </tr>\n",
       "    <tr>\n",
       "      <th>9</th>\n",
       "      <td>Valentine's Day</td>\n",
       "    </tr>\n",
       "    <tr>\n",
       "      <th>10</th>\n",
       "      <td>Tyler Perry's Why Did I get Married</td>\n",
       "    </tr>\n",
       "    <tr>\n",
       "      <th>11</th>\n",
       "      <td>Twilight: Breaking Dawn</td>\n",
       "    </tr>\n",
       "    <tr>\n",
       "      <th>12</th>\n",
       "      <td>Twilight</td>\n",
       "    </tr>\n",
       "    <tr>\n",
       "      <th>13</th>\n",
       "      <td>The Ugly Truth</td>\n",
       "    </tr>\n",
       "    <tr>\n",
       "      <th>14</th>\n",
       "      <td>The Twilight Saga: New Moon</td>\n",
       "    </tr>\n",
       "    <tr>\n",
       "      <th>15</th>\n",
       "      <td>The Time Traveler's Wife</td>\n",
       "    </tr>\n",
       "    <tr>\n",
       "      <th>16</th>\n",
       "      <td>The Proposal</td>\n",
       "    </tr>\n",
       "    <tr>\n",
       "      <th>17</th>\n",
       "      <td>The Invention of Lying</td>\n",
       "    </tr>\n",
       "    <tr>\n",
       "      <th>18</th>\n",
       "      <td>The Heartbreak Kid</td>\n",
       "    </tr>\n",
       "    <tr>\n",
       "      <th>19</th>\n",
       "      <td>The Duchess</td>\n",
       "    </tr>\n",
       "    <tr>\n",
       "      <th>20</th>\n",
       "      <td>The Curious Case of Benjamin Button</td>\n",
       "    </tr>\n",
       "    <tr>\n",
       "      <th>21</th>\n",
       "      <td>The Back-up Plan</td>\n",
       "    </tr>\n",
       "    <tr>\n",
       "      <th>22</th>\n",
       "      <td>Tangled</td>\n",
       "    </tr>\n",
       "    <tr>\n",
       "      <th>23</th>\n",
       "      <td>Something Borrowed</td>\n",
       "    </tr>\n",
       "    <tr>\n",
       "      <th>24</th>\n",
       "      <td>She's Out of My League</td>\n",
       "    </tr>\n",
       "    <tr>\n",
       "      <th>25</th>\n",
       "      <td>Sex and the City Two</td>\n",
       "    </tr>\n",
       "    <tr>\n",
       "      <th>26</th>\n",
       "      <td>Sex and the City 2</td>\n",
       "    </tr>\n",
       "    <tr>\n",
       "      <th>27</th>\n",
       "      <td>Sex and the City</td>\n",
       "    </tr>\n",
       "    <tr>\n",
       "      <th>28</th>\n",
       "      <td>Remember Me</td>\n",
       "    </tr>\n",
       "    <tr>\n",
       "      <th>29</th>\n",
       "      <td>Rachel Getting Married</td>\n",
       "    </tr>\n",
       "    <tr>\n",
       "      <th>...</th>\n",
       "      <td>...</td>\n",
       "    </tr>\n",
       "    <tr>\n",
       "      <th>47</th>\n",
       "      <td>Made of Honor</td>\n",
       "    </tr>\n",
       "    <tr>\n",
       "      <th>48</th>\n",
       "      <td>Love Happens</td>\n",
       "    </tr>\n",
       "    <tr>\n",
       "      <th>49</th>\n",
       "      <td>Love &amp; Other Drugs</td>\n",
       "    </tr>\n",
       "    <tr>\n",
       "      <th>50</th>\n",
       "      <td>Life as We Know It</td>\n",
       "    </tr>\n",
       "    <tr>\n",
       "      <th>51</th>\n",
       "      <td>License to Wed</td>\n",
       "    </tr>\n",
       "    <tr>\n",
       "      <th>52</th>\n",
       "      <td>Letters to Juliet</td>\n",
       "    </tr>\n",
       "    <tr>\n",
       "      <th>53</th>\n",
       "      <td>Leap Year</td>\n",
       "    </tr>\n",
       "    <tr>\n",
       "      <th>54</th>\n",
       "      <td>Knocked Up</td>\n",
       "    </tr>\n",
       "    <tr>\n",
       "      <th>55</th>\n",
       "      <td>Killers</td>\n",
       "    </tr>\n",
       "    <tr>\n",
       "      <th>56</th>\n",
       "      <td>Just Wright</td>\n",
       "    </tr>\n",
       "    <tr>\n",
       "      <th>57</th>\n",
       "      <td>Jane Eyre</td>\n",
       "    </tr>\n",
       "    <tr>\n",
       "      <th>58</th>\n",
       "      <td>It's Complicated</td>\n",
       "    </tr>\n",
       "    <tr>\n",
       "      <th>59</th>\n",
       "      <td>I Love You Phillip Morris</td>\n",
       "    </tr>\n",
       "    <tr>\n",
       "      <th>60</th>\n",
       "      <td>High School Musical 3: Senior Year</td>\n",
       "    </tr>\n",
       "    <tr>\n",
       "      <th>61</th>\n",
       "      <td>He's Just Not That Into You</td>\n",
       "    </tr>\n",
       "    <tr>\n",
       "      <th>62</th>\n",
       "      <td>Good Luck Chuck</td>\n",
       "    </tr>\n",
       "    <tr>\n",
       "      <th>63</th>\n",
       "      <td>Going the Distance</td>\n",
       "    </tr>\n",
       "    <tr>\n",
       "      <th>64</th>\n",
       "      <td>Gnomeo and Juliet</td>\n",
       "    </tr>\n",
       "    <tr>\n",
       "      <th>65</th>\n",
       "      <td>Gnomeo and Juliet</td>\n",
       "    </tr>\n",
       "    <tr>\n",
       "      <th>66</th>\n",
       "      <td>Ghosts of Girlfriends Past</td>\n",
       "    </tr>\n",
       "    <tr>\n",
       "      <th>67</th>\n",
       "      <td>Four Christmases</td>\n",
       "    </tr>\n",
       "    <tr>\n",
       "      <th>68</th>\n",
       "      <td>Fireproof</td>\n",
       "    </tr>\n",
       "    <tr>\n",
       "      <th>69</th>\n",
       "      <td>Enchanted</td>\n",
       "    </tr>\n",
       "    <tr>\n",
       "      <th>70</th>\n",
       "      <td>Dear John</td>\n",
       "    </tr>\n",
       "    <tr>\n",
       "      <th>71</th>\n",
       "      <td>Beginners</td>\n",
       "    </tr>\n",
       "    <tr>\n",
       "      <th>72</th>\n",
       "      <td>Across the Universe</td>\n",
       "    </tr>\n",
       "    <tr>\n",
       "      <th>73</th>\n",
       "      <td>A Serious Man</td>\n",
       "    </tr>\n",
       "    <tr>\n",
       "      <th>74</th>\n",
       "      <td>A Dangerous Method</td>\n",
       "    </tr>\n",
       "    <tr>\n",
       "      <th>75</th>\n",
       "      <td>27 Dresses</td>\n",
       "    </tr>\n",
       "    <tr>\n",
       "      <th>76</th>\n",
       "      <td>(500) Days of Summer</td>\n",
       "    </tr>\n",
       "  </tbody>\n",
       "</table>\n",
       "<p>77 rows × 1 columns</p>\n",
       "</div>"
      ],
      "text/plain": [
       "                                   Film\n",
       "0            Zack and Miri Make a Porno\n",
       "1                       Youth in Revolt\n",
       "2    You Will Meet a Tall Dark Stranger\n",
       "3                          When in Rome\n",
       "4                 What Happens in Vegas\n",
       "5                   Water For Elephants\n",
       "6                                WALL-E\n",
       "7                              Waitress\n",
       "8                   Waiting For Forever\n",
       "9                       Valentine's Day\n",
       "10  Tyler Perry's Why Did I get Married\n",
       "11              Twilight: Breaking Dawn\n",
       "12                             Twilight\n",
       "13                       The Ugly Truth\n",
       "14          The Twilight Saga: New Moon\n",
       "15             The Time Traveler's Wife\n",
       "16                         The Proposal\n",
       "17               The Invention of Lying\n",
       "18                   The Heartbreak Kid\n",
       "19                          The Duchess\n",
       "20  The Curious Case of Benjamin Button\n",
       "21                     The Back-up Plan\n",
       "22                              Tangled\n",
       "23                   Something Borrowed\n",
       "24               She's Out of My League\n",
       "25                 Sex and the City Two\n",
       "26                   Sex and the City 2\n",
       "27                     Sex and the City\n",
       "28                          Remember Me\n",
       "29               Rachel Getting Married\n",
       "..                                  ...\n",
       "47                        Made of Honor\n",
       "48                         Love Happens\n",
       "49                   Love & Other Drugs\n",
       "50                   Life as We Know It\n",
       "51                       License to Wed\n",
       "52                    Letters to Juliet\n",
       "53                            Leap Year\n",
       "54                           Knocked Up\n",
       "55                              Killers\n",
       "56                          Just Wright\n",
       "57                            Jane Eyre\n",
       "58                     It's Complicated\n",
       "59            I Love You Phillip Morris\n",
       "60   High School Musical 3: Senior Year\n",
       "61          He's Just Not That Into You\n",
       "62                      Good Luck Chuck\n",
       "63                   Going the Distance\n",
       "64                    Gnomeo and Juliet\n",
       "65                    Gnomeo and Juliet\n",
       "66           Ghosts of Girlfriends Past\n",
       "67                     Four Christmases\n",
       "68                            Fireproof\n",
       "69                            Enchanted\n",
       "70                            Dear John\n",
       "71                            Beginners\n",
       "72                  Across the Universe\n",
       "73                        A Serious Man\n",
       "74                   A Dangerous Method\n",
       "75                           27 Dresses\n",
       "76                 (500) Days of Summer\n",
       "\n",
       "[77 rows x 1 columns]"
      ]
     },
     "execution_count": 34,
     "metadata": {},
     "output_type": "execute_result"
    }
   ],
   "source": [
    "film = movie['Film']\n",
    "film.to_frame()"
   ]
  },
  {
   "cell_type": "markdown",
   "metadata": {},
   "source": [
    "## Calling Series methods"
   ]
  },
  {
   "cell_type": "markdown",
   "metadata": {},
   "source": [
    "Calculate the total amount of attributes and methods of a certain object"
   ]
  },
  {
   "cell_type": "code",
   "execution_count": 5,
   "metadata": {},
   "outputs": [
    {
     "data": {
      "text/plain": [
       "464"
      ]
     },
     "execution_count": 5,
     "metadata": {},
     "output_type": "execute_result"
    }
   ],
   "source": [
    "series_attr_methods = set(dir(pd.Series))\n",
    "len(series_attr_methods)"
   ]
  },
  {
   "cell_type": "code",
   "execution_count": 4,
   "metadata": {},
   "outputs": [
    {
     "data": {
      "text/plain": [
       "460"
      ]
     },
     "execution_count": 4,
     "metadata": {},
     "output_type": "execute_result"
    }
   ],
   "source": [
    "dataframe_attr_methods = set(dir(pd.DataFrame))\n",
    "len(dataframe_attr_methods)"
   ]
  },
  {
   "cell_type": "markdown",
   "metadata": {},
   "source": [
    "Find number of attributes and methods common to both Series and DataFrame"
   ]
  },
  {
   "cell_type": "code",
   "execution_count": 5,
   "metadata": {},
   "outputs": [
    {
     "data": {
      "text/plain": [
       "399"
      ]
     },
     "execution_count": 5,
     "metadata": {},
     "output_type": "execute_result"
    }
   ],
   "source": [
    "len(series_attr_methods & dataframe_attr_methods)"
   ]
  },
  {
   "cell_type": "code",
   "execution_count": 53,
   "metadata": {},
   "outputs": [],
   "source": [
    "movie = pd.read_csv('data/movies.csv')"
   ]
  },
  {
   "cell_type": "code",
   "execution_count": 10,
   "metadata": {},
   "outputs": [
    {
     "data": {
      "text/plain": [
       "Film                  object\n",
       "Genre                 object\n",
       "Lead Studio           object\n",
       "Audience score %       int64\n",
       "Profitability        float64\n",
       "Rotten Tomatoes %      int64\n",
       "Worldwide Gross       object\n",
       "Year                 float64\n",
       "dtype: object"
      ]
     },
     "execution_count": 10,
     "metadata": {},
     "output_type": "execute_result"
    }
   ],
   "source": [
    "movie.dtypes"
   ]
  },
  {
   "cell_type": "code",
   "execution_count": 11,
   "metadata": {},
   "outputs": [],
   "source": [
    "film = movie['Film']\n",
    "profitability = movie['Profitability']"
   ]
  },
  {
   "cell_type": "code",
   "execution_count": 18,
   "metadata": {},
   "outputs": [
    {
     "data": {
      "text/plain": [
       "0            Zack and Miri Make a Porno\n",
       "1                       Youth in Revolt\n",
       "2    You Will Meet a Tall Dark Stranger\n",
       "3                          When in Rome\n",
       "4                 What Happens in Vegas\n",
       "Name: Film, dtype: object"
      ]
     },
     "execution_count": 18,
     "metadata": {},
     "output_type": "execute_result"
    }
   ],
   "source": [
    "film.head()"
   ]
  },
  {
   "cell_type": "code",
   "execution_count": 19,
   "metadata": {},
   "outputs": [
    {
     "data": {
      "text/plain": [
       "0    1.747542\n",
       "1    1.090000\n",
       "2    1.211818\n",
       "3    0.000000\n",
       "4    6.267647\n",
       "Name: Profitability, dtype: float64"
      ]
     },
     "execution_count": 19,
     "metadata": {},
     "output_type": "execute_result"
    }
   ],
   "source": [
    "profitability.head()"
   ]
  },
  {
   "cell_type": "markdown",
   "metadata": {},
   "source": [
    "The dtype of the series usually determines which of the methods will be the most useful.\n",
    "For instace, one of the most useful method for the **object** datatype Series is **value_counts()** which counts all the occurrences of each unique value."
   ]
  },
  {
   "cell_type": "code",
   "execution_count": 20,
   "metadata": {},
   "outputs": [
    {
     "data": {
      "text/plain": [
       "Gnomeo and Juliet                      2\n",
       "Mamma Mia!                             2\n",
       "One Day                                1\n",
       "Midnight in Paris                      1\n",
       "Over Her Dead Body                     1\n",
       "Tangled                                1\n",
       "Sex and the City                       1\n",
       "Not Easily Broken                      1\n",
       "Life as We Know It                     1\n",
       "What Happens in Vegas                  1\n",
       "Knocked Up                             1\n",
       "License to Wed                         1\n",
       "Marley and Me                          1\n",
       "Love Happens                           1\n",
       "The Proposal                           1\n",
       "Our Family Wedding                     1\n",
       "Waitress                               1\n",
       "It's Complicated                       1\n",
       "Ghosts of Girlfriends Past             1\n",
       "Remember Me                            1\n",
       "A Dangerous Method                     1\n",
       "Twilight                               1\n",
       "Twilight: Breaking Dawn                1\n",
       "A Serious Man                          1\n",
       "I Love You Phillip Morris              1\n",
       "Penelope                               1\n",
       "Fireproof                              1\n",
       "Four Christmases                       1\n",
       "Jane Eyre                              1\n",
       "When in Rome                           1\n",
       "                                      ..\n",
       "No Reservations                        1\n",
       "P.S. I Love You                        1\n",
       "Made of Honor                          1\n",
       "(500) Days of Summer                   1\n",
       "Youth in Revolt                        1\n",
       "The Heartbreak Kid                     1\n",
       "He's Just Not That Into You            1\n",
       "Sex and the City 2                     1\n",
       "The Back-up Plan                       1\n",
       "Dear John                              1\n",
       "The Ugly Truth                         1\n",
       "Killers                                1\n",
       "Enchanted                              1\n",
       "Something Borrowed                     1\n",
       "Music and Lyrics                       1\n",
       "Good Luck Chuck                        1\n",
       "She's Out of My League                 1\n",
       "The Twilight Saga: New Moon            1\n",
       "Beginners                              1\n",
       "The Time Traveler's Wife               1\n",
       "Letters to Juliet                      1\n",
       "Leap Year                              1\n",
       "Going the Distance                     1\n",
       "New Year's Eve                         1\n",
       "High School Musical 3: Senior Year     1\n",
       "WALL-E                                 1\n",
       "Sex and the City Two                   1\n",
       "Nick and Norah's Infinite Playlist     1\n",
       "Miss Pettigrew Lives for a Day         1\n",
       "The Curious Case of Benjamin Button    1\n",
       "Name: Film, Length: 75, dtype: int64"
      ]
     },
     "execution_count": 20,
     "metadata": {},
     "output_type": "execute_result"
    }
   ],
   "source": [
    "film.value_counts()"
   ]
  },
  {
   "cell_type": "markdown",
   "metadata": {},
   "source": [
    "The value_counts() is typically more useful for Series with object datatype, but it can be used for numeric Series as well. But need to pay attention since the numerica values could be rounded to the nearest integer value."
   ]
  },
  {
   "cell_type": "code",
   "execution_count": 21,
   "metadata": {},
   "outputs": [
    {
     "data": {
      "text/plain": [
       "0.000000     3\n",
       "5.387972     2\n",
       "2.883500     2\n",
       "9.234454     2\n",
       "14.196400    1\n",
       "1.090000     1\n",
       "1.783944     1\n",
       "3.491250     1\n",
       "2.642353     1\n",
       "1.747542     1\n",
       "3.647411     1\n",
       "2.440500     1\n",
       "3.746782     1\n",
       "1.719514     1\n",
       "1.211818     1\n",
       "4.184038     1\n",
       "2.129444     1\n",
       "4.471875     1\n",
       "1.817667     1\n",
       "5.402632     1\n",
       "3.307180     1\n",
       "0.825800     1\n",
       "3.724192     1\n",
       "2.896019     1\n",
       "1.797417     1\n",
       "4.598800     1\n",
       "1.751351     1\n",
       "0.005000     1\n",
       "7.867500     1\n",
       "2.367685     1\n",
       "            ..\n",
       "10.180027    1\n",
       "2.639333     1\n",
       "11.089741    1\n",
       "4.005737     1\n",
       "8.096000     1\n",
       "3.352729     1\n",
       "1.384167     1\n",
       "2.004444     1\n",
       "5.103117     1\n",
       "2.202571     1\n",
       "8.744706     1\n",
       "2.022925     1\n",
       "6.636402     1\n",
       "1.715263     1\n",
       "0.252895     1\n",
       "2.598205     1\n",
       "22.913136    1\n",
       "1.314062     1\n",
       "66.934000    1\n",
       "0.652603     1\n",
       "2.536429     1\n",
       "2.649068     1\n",
       "1.980206     1\n",
       "1.983200     1\n",
       "1.340000     1\n",
       "6.267647     1\n",
       "3.207850     1\n",
       "3.081421     1\n",
       "1.382800     1\n",
       "5.343622     1\n",
       "Name: Profitability, Length: 72, dtype: int64"
      ]
     },
     "execution_count": 21,
     "metadata": {},
     "output_type": "execute_result"
    }
   ],
   "source": [
    "profitability.value_counts()"
   ]
  },
  {
   "cell_type": "markdown",
   "metadata": {},
   "source": [
    "### Return the size of a Series"
   ]
  },
  {
   "cell_type": "code",
   "execution_count": 22,
   "metadata": {},
   "outputs": [
    {
     "data": {
      "text/plain": [
       "77"
      ]
     },
     "execution_count": 22,
     "metadata": {},
     "output_type": "execute_result"
    }
   ],
   "source": [
    "film.size"
   ]
  },
  {
   "cell_type": "code",
   "execution_count": 23,
   "metadata": {},
   "outputs": [
    {
     "data": {
      "text/plain": [
       "(77,)"
      ]
     },
     "execution_count": 23,
     "metadata": {},
     "output_type": "execute_result"
    }
   ],
   "source": [
    "film.shape"
   ]
  },
  {
   "cell_type": "code",
   "execution_count": 24,
   "metadata": {},
   "outputs": [
    {
     "data": {
      "text/plain": [
       "77"
      ]
     },
     "execution_count": 24,
     "metadata": {},
     "output_type": "execute_result"
    }
   ],
   "source": [
    "len(film)"
   ]
  },
  {
   "cell_type": "markdown",
   "metadata": {},
   "source": [
    "**count()** returns the number of non missing values "
   ]
  },
  {
   "cell_type": "code",
   "execution_count": 25,
   "metadata": {},
   "outputs": [
    {
     "data": {
      "text/plain": [
       "77"
      ]
     },
     "execution_count": 25,
     "metadata": {},
     "output_type": "execute_result"
    }
   ],
   "source": [
    "film.count()"
   ]
  },
  {
   "cell_type": "code",
   "execution_count": 26,
   "metadata": {},
   "outputs": [
    {
     "data": {
      "text/plain": [
       "76"
      ]
     },
     "execution_count": 26,
     "metadata": {},
     "output_type": "execute_result"
    }
   ],
   "source": [
    "movie['Year'].count()"
   ]
  },
  {
   "cell_type": "code",
   "execution_count": 27,
   "metadata": {},
   "outputs": [
    {
     "data": {
      "text/plain": [
       "77"
      ]
     },
     "execution_count": 27,
     "metadata": {},
     "output_type": "execute_result"
    }
   ],
   "source": [
    "profitability.count()"
   ]
  },
  {
   "cell_type": "markdown",
   "metadata": {},
   "source": [
    "To return a **tuple**, it can be write different expressions separeted by a **comma**"
   ]
  },
  {
   "cell_type": "code",
   "execution_count": 33,
   "metadata": {},
   "outputs": [
    {
     "data": {
      "text/plain": [
       "(0.0,\n",
       " 66.934,\n",
       " 4.5994833979610386,\n",
       " 2.642352941,\n",
       " 8.031990152409822,\n",
       " 354.160221643)"
      ]
     },
     "execution_count": 33,
     "metadata": {},
     "output_type": "execute_result"
    }
   ],
   "source": [
    "profitability.min(), profitability.max(), profitability.mean(), profitability.median(), profitability.std(), \\\n",
    "profitability.sum()"
   ]
  },
  {
   "cell_type": "markdown",
   "metadata": {},
   "source": [
    "**describe()** method can be used to output the same statistic informations"
   ]
  },
  {
   "cell_type": "code",
   "execution_count": 34,
   "metadata": {},
   "outputs": [
    {
     "data": {
      "text/plain": [
       "count    77.000000\n",
       "mean      4.599483\n",
       "std       8.031990\n",
       "min       0.000000\n",
       "25%       1.751351\n",
       "50%       2.642353\n",
       "75%       5.103117\n",
       "max      66.934000\n",
       "Name: Profitability, dtype: float64"
      ]
     },
     "execution_count": 34,
     "metadata": {},
     "output_type": "execute_result"
    }
   ],
   "source": [
    "profitability.describe()"
   ]
  },
  {
   "cell_type": "markdown",
   "metadata": {},
   "source": [
    "**isnull()** determines if each value is missing or not"
   ]
  },
  {
   "cell_type": "code",
   "execution_count": 36,
   "metadata": {},
   "outputs": [
    {
     "data": {
      "text/plain": [
       "0     False\n",
       "1     False\n",
       "2     False\n",
       "3     False\n",
       "4     False\n",
       "5     False\n",
       "6     False\n",
       "7     False\n",
       "8     False\n",
       "9     False\n",
       "10    False\n",
       "11    False\n",
       "12    False\n",
       "13    False\n",
       "14    False\n",
       "15    False\n",
       "16    False\n",
       "17    False\n",
       "18    False\n",
       "19    False\n",
       "20    False\n",
       "21    False\n",
       "22    False\n",
       "23    False\n",
       "24    False\n",
       "25    False\n",
       "26    False\n",
       "27    False\n",
       "28    False\n",
       "29    False\n",
       "      ...  \n",
       "47    False\n",
       "48    False\n",
       "49    False\n",
       "50    False\n",
       "51    False\n",
       "52    False\n",
       "53    False\n",
       "54    False\n",
       "55    False\n",
       "56    False\n",
       "57    False\n",
       "58    False\n",
       "59    False\n",
       "60    False\n",
       "61    False\n",
       "62    False\n",
       "63    False\n",
       "64    False\n",
       "65    False\n",
       "66    False\n",
       "67    False\n",
       "68    False\n",
       "69    False\n",
       "70    False\n",
       "71    False\n",
       "72    False\n",
       "73    False\n",
       "74    False\n",
       "75    False\n",
       "76     True\n",
       "Name: Year, Length: 77, dtype: bool"
      ]
     },
     "execution_count": 36,
     "metadata": {},
     "output_type": "execute_result"
    }
   ],
   "source": [
    "movie['Year'].isnull()"
   ]
  },
  {
   "cell_type": "markdown",
   "metadata": {},
   "source": [
    "It it possible to replace all missing values within a Series with the **fillna(0)** method"
   ]
  },
  {
   "cell_type": "code",
   "execution_count": 55,
   "metadata": {},
   "outputs": [
    {
     "data": {
      "text/plain": [
       "77"
      ]
     },
     "execution_count": 55,
     "metadata": {},
     "output_type": "execute_result"
    }
   ],
   "source": [
    "year = movie['Year'].fillna(0)\n",
    "year.count()"
   ]
  },
  {
   "cell_type": "markdown",
   "metadata": {},
   "source": [
    "On the other hand, to remove all the Series with missing values use **dropna()** method"
   ]
  },
  {
   "cell_type": "code",
   "execution_count": 56,
   "metadata": {},
   "outputs": [
    {
     "data": {
      "text/plain": [
       "77"
      ]
     },
     "execution_count": 56,
     "metadata": {},
     "output_type": "execute_result"
    }
   ],
   "source": [
    "year = movie['Year'].dropna()\n",
    "year.size"
   ]
  },
  {
   "cell_type": "code",
   "execution_count": null,
   "metadata": {},
   "outputs": [],
   "source": []
  }
 ],
 "metadata": {
  "kernelspec": {
   "display_name": "Python 3",
   "language": "python",
   "name": "python3"
  },
  "language_info": {
   "codemirror_mode": {
    "name": "ipython",
    "version": 3
   },
   "file_extension": ".py",
   "mimetype": "text/x-python",
   "name": "python",
   "nbconvert_exporter": "python",
   "pygments_lexer": "ipython3",
   "version": "3.6.6"
  }
 },
 "nbformat": 4,
 "nbformat_minor": 2
}
